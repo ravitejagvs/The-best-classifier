{
  "nbformat": 4,
  "nbformat_minor": 0,
  "metadata": {
    "kernelspec": {
      "display_name": "Python 3",
      "language": "python",
      "name": "python3"
    },
    "language_info": {
      "codemirror_mode": {
        "name": "ipython",
        "version": 3
      },
      "file_extension": ".py",
      "mimetype": "text/x-python",
      "name": "python",
      "nbconvert_exporter": "python",
      "pygments_lexer": "ipython3",
      "version": "3.7.4"
    },
    "colab": {
      "name": "simple-regression.ipynb",
      "provenance": [],
      "include_colab_link": true
    }
  },
  "cells": [
    {
      "cell_type": "markdown",
      "metadata": {
        "id": "view-in-github",
        "colab_type": "text"
      },
      "source": [
        "<a href=\"https://colab.research.google.com/github/ravitejagvs/The-best-classifier/blob/master/simple_regression.ipynb\" target=\"_parent\"><img src=\"https://colab.research.google.com/assets/colab-badge.svg\" alt=\"Open In Colab\"/></a>"
      ]
    },
    {
      "cell_type": "markdown",
      "metadata": {
        "id": "XNxZ31XZj6OL",
        "colab_type": "text"
      },
      "source": [
        "The basic computation unit in TensorFlow is a graph. A TensorFlow project is typically structured into 2 parts:\n",
        "1. A construction phase where you design the computational graph, and\n",
        "2. An analysis phase where you run the graph and perform calculations on it."
      ]
    },
    {
      "cell_type": "markdown",
      "metadata": {
        "id": "ZS_3gubWj6OP",
        "colab_type": "text"
      },
      "source": [
        "Let’s start off by importing the required packages."
      ]
    },
    {
      "cell_type": "code",
      "metadata": {
        "id": "azECt8laj6OQ",
        "colab_type": "code",
        "colab": {}
      },
      "source": [
        "import tensorflow as tf\n",
        "from sklearn.datasets import load_boston\n",
        "from sklearn.preprocessing import scale\n",
        "from matplotlib import pyplot as plt"
      ],
      "execution_count": 0,
      "outputs": []
    },
    {
      "cell_type": "markdown",
      "metadata": {
        "id": "nZnp_72Wj6OV",
        "colab_type": "text"
      },
      "source": [
        "Now get the data and restructure it (split it into a training set, validation set and a test set)."
      ]
    },
    {
      "cell_type": "code",
      "metadata": {
        "id": "aezzjN1gj6OX",
        "colab_type": "code",
        "colab": {}
      },
      "source": [
        "# Get the data\n",
        "total_features, total_prices = load_boston(True)\n",
        "\n",
        "# Keep 300 samples for training\n",
        "train_features = scale(total_features[:300])\n",
        "train_prices = total_prices[:300]\n",
        "\n",
        "# Keep 100 samples for validation\n",
        "valid_features = scale(total_features[300:400])\n",
        "valid_prices = total_prices[300:400]\n",
        "\n",
        "# Keep remaining samples as test set\n",
        "test_features = scale(total_features[400:])\n",
        "test_prices = total_prices[400:]"
      ],
      "execution_count": 0,
      "outputs": []
    },
    {
      "cell_type": "markdown",
      "metadata": {
        "id": "198S4s2nj6Oc",
        "colab_type": "text"
      },
      "source": [
        "The `True` passed to `load_boston()` lets it know that we want features and prices in separate `numpy` arrays.\n",
        "\n",
        "Every piece of data in TensorFlow is represented by a `node` in the overall computational graph of your project. Nodes in TensorFlow are also called operations, or ops in short. A tensor is basically an n-dimensional array.<br>\n",
        "Each op takes zero or more tensors as input, performs some calculations, and returns zero out more tensors as output.\n",
        "\n",
        "Notice the zero on both sides — an op can map zero inputs to n outputs (a constant tensor), n inputs to zero outputs (a placeholder in memory, or a variable) and various other useful combinations."
      ]
    },
    {
      "cell_type": "code",
      "metadata": {
        "id": "z2sucj7nj6Oe",
        "colab_type": "code",
        "colab": {}
      },
      "source": [
        "w = tf.Variable(tf.truncated_normal([13, 1], mean=0.0, stddev=1.0, dtype=tf.float64))\n",
        "b = tf.Variable(tf.zeros(1, dtype = tf.float64))"
      ],
      "execution_count": 0,
      "outputs": []
    },
    {
      "cell_type": "markdown",
      "metadata": {
        "id": "M-OQevcUj6Oh",
        "colab_type": "text"
      },
      "source": [
        "`tf.Variable()` defines a variable tensor. It takes an initial value as an argument. Here, we give `tf.truncated_normal()` as an initial value, which generates a regularised set of numbers from the normal probability distribution. Choosing a random set of initial weights is considered a good practise in machine learning. `tf.zeros()` works similar to `numpy.zeros()`."
      ]
    },
    {
      "cell_type": "markdown",
      "metadata": {
        "id": "BlPyWVQsj6Oi",
        "colab_type": "text"
      },
      "source": [
        "Define a function which calculates predictions and error,"
      ]
    },
    {
      "cell_type": "code",
      "metadata": {
        "id": "-M_k9JGSj6Oj",
        "colab_type": "code",
        "colab": {}
      },
      "source": [
        "def calc(x, y):\n",
        "    # Returns predictions and error\n",
        "    predictions = tf.add(b, tf.matmul(x, w))\n",
        "    error = tf.reduce_mean(tf.square(y - predictions))\n",
        "    return [ predictions, error ]"
      ],
      "execution_count": 0,
      "outputs": []
    },
    {
      "cell_type": "markdown",
      "metadata": {
        "id": "b5ZsE2Krj6On",
        "colab_type": "text"
      },
      "source": [
        "`tf.add()` does what you’d expect, `tf.matmul()` multiplies matrices, `tf.reduce_mean()` computes the mean of all elements in the tensor passed to it, and `tf.square()` squares each element in the tensor passed to it."
      ]
    },
    {
      "cell_type": "code",
      "metadata": {
        "id": "z_B78efVj6Oo",
        "colab_type": "code",
        "colab": {}
      },
      "source": [
        "y, cost = calc(train_features, train_prices)\n",
        "# Feel free to tweak these 2 values:\n",
        "learning_rate = 0.025\n",
        "epochs = 3000\n",
        "points = [[], []] # You'll see later why we need this"
      ],
      "execution_count": 0,
      "outputs": []
    },
    {
      "cell_type": "markdown",
      "metadata": {
        "id": "z49YitoBj6Or",
        "colab_type": "text"
      },
      "source": [
        "Every graph in TensorFlow is run in an environment called a **session**. The session takes care of your graph, so you don’t have to worry about things going wrong in the computation. You can take control of the graph to do more powerful things with it, but for now we’ll let TensorFlow handle that for us."
      ]
    },
    {
      "cell_type": "code",
      "metadata": {
        "id": "AcVZEBoCj6Os",
        "colab_type": "code",
        "colab": {}
      },
      "source": [
        "init = tf.global_variables_initializer()\n",
        "optimizer = tf.train.GradientDescentOptimizer(learning_rate).minimize(cost)"
      ],
      "execution_count": 0,
      "outputs": []
    },
    {
      "cell_type": "markdown",
      "metadata": {
        "id": "puwp1MpUj6Ov",
        "colab_type": "text"
      },
      "source": [
        "When we have variable tensors in our neural network, we need to explicitly ask TensorFlow to initialise them for us before using the graph. \n",
        "\n",
        "`tf.global_variables_initializer()` returns an op that does exactly that. TensorFlow also provides an API that performs gradient descent for us. We just have to call `tf.train.GradientDescentOptimizer(learning_rate)` and ask it to `minimize(cost)` for us. We catch this op in `optimizer`."
      ]
    },
    {
      "cell_type": "code",
      "metadata": {
        "id": "-GwTuatZj6Ow",
        "colab_type": "code",
        "colab": {},
        "outputId": "c48960e3-7fac-443f-e5db-d431997e5315"
      },
      "source": [
        "with tf.Session() as sess:\n",
        "\n",
        "    sess.run(init)\n",
        "\n",
        "    for i in list(range(epochs)):\n",
        "\n",
        "        sess.run(optimizer)\n",
        "\n",
        "        if i % 10 == 0.:\n",
        "            points[0].append(i+1)\n",
        "            points[1].append(sess.run(cost))\n",
        "\n",
        "        if i % 100 == 0:\n",
        "            print(sess.run(cost))\n",
        "\n",
        "    plt.plot(points[0], points[1], 'r--')\n",
        "    plt.axis([0, epochs, 50, 600])\n",
        "    plt.show()\n",
        "\n",
        "    valid_cost = calc(valid_features, valid_prices)[1]\n",
        "\n",
        "    print('Validation error =', sess.run(valid_cost), '\\n')\n",
        "\n",
        "    test_cost = calc(test_features, test_prices)[1]\n",
        "\n",
        "    print('Test error =', sess.run(test_cost), '\\n')"
      ],
      "execution_count": 0,
      "outputs": [
        {
          "output_type": "stream",
          "text": [
            "673.14216853076\n",
            "78.91364979360661\n",
            "78.74319100715486\n",
            "78.72866810963248\n",
            "78.72617211289321\n",
            "78.72555103617803\n",
            "78.72537385304494\n",
            "78.7253211071508\n",
            "78.7253051782167\n",
            "78.72530034080312\n",
            "78.72529886810963\n",
            "78.7252984192316\n",
            "78.72529828233027\n",
            "78.72529824056397\n",
            "78.72529822781958\n",
            "78.72529822393047\n",
            "78.72529822274356\n",
            "78.72529822238133\n",
            "78.7252982222708\n",
            "78.72529822223704\n",
            "78.72529822222675\n",
            "78.7252982222236\n",
            "78.72529822222265\n",
            "78.72529822222236\n",
            "78.72529822222225\n",
            "78.72529822222224\n",
            "78.72529822222222\n",
            "78.72529822222224\n",
            "78.72529822222224\n",
            "78.72529822222222\n"
          ],
          "name": "stdout"
        },
        {
          "output_type": "display_data",
          "data": {
            "image/png": "[encoded data removed]",
            "text/plain": [
              "<Figure size 432x288 with 1 Axes>"
            ]
          },
          "metadata": {
            "tags": [],
            "needs_background": "light"
          }
        },
        {
          "output_type": "stream",
          "text": [
            "Validation error = 104.34367777777744 \n",
            "\n",
            "Test error = 123.33357347589033 \n",
            "\n"
          ],
          "name": "stdout"
        }
      ]
    }
  ]
}