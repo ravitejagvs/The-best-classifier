{
  "nbformat": 4,
  "nbformat_minor": 0,
  "metadata": {
    "kernelspec": {
      "display_name": "Python 3",
      "language": "python",
      "name": "python3"
    },
    "language_info": {
      "codemirror_mode": {
        "name": "ipython",
        "version": 3
      },
      "file_extension": ".py",
      "mimetype": "text/x-python",
      "name": "python",
      "nbconvert_exporter": "python",
      "pygments_lexer": "ipython3",
      "version": "3.7.4"
    },
    "colab": {
      "name": "tf1-XOR.ipynb",
      "provenance": [],
      "include_colab_link": true
    }
  },
  "cells": [
    {
      "cell_type": "markdown",
      "metadata": {
        "id": "view-in-github",
        "colab_type": "text"
      },
      "source": [
        "<a href=\"https://colab.research.google.com/github/ravitejagvs/The-best-classifier/blob/master/tf1_XOR.ipynb\" target=\"_parent\"><img src=\"https://colab.research.google.com/assets/colab-badge.svg\" alt=\"Open In Colab\"/></a>"
      ]
    },
    {
      "cell_type": "markdown",
      "metadata": {
        "id": "yNt-CCLwQC5e",
        "colab_type": "text"
      },
      "source": [
        "## XOR Implementation\n",
        "| A | B | A XOR B |\n",
        "|---|---|---------|\n",
        "| 0 | 0 | 0 |\n",
        "| 0 | 1 | 1 |\n",
        "| 1 | 0 | 1 |\n",
        "| 1 | 1 | 0 |\n",
        "\n",
        "XOR Cipher encryption method is basically used to encrypt data which is hard to crack with brute force method, i.e., by generating random encryption keys which match the appropriate key.\n",
        "\n",
        "The concept of implementation with XOR Cipher is to define a XOR encryption key and then perform XOR operation of the characters in the specified string with this key, which a user tries to encrypt."
      ]
    },
    {
      "cell_type": "code",
      "metadata": {
        "id": "pDi_g4WLQC5o",
        "colab_type": "code",
        "colab": {},
        "outputId": "0a7b4404-59c5-4ac0-8dfa-6fcd0aac8628"
      },
      "source": [
        "#Declaring necessary modules\n",
        "import tensorflow as tf\n",
        "import numpy as np\n",
        "\"\"\"\n",
        "A simple numpy implementation of a XOR gate to understand the backpropagation\n",
        "algorithm\n",
        "\"\"\"\n",
        "\n",
        "x = tf.placeholder(tf.float64,shape = [4,2],name = \"x\")\n",
        "#declaring a place holder for input x\n",
        "y = tf.placeholder(tf.float64,shape = [4,1],name = \"y\")\n",
        "#declaring a place holder for desired output y\n",
        "\n",
        "m = np.shape(x)[0]#number of training examples\n",
        "n = np.shape(x)[1]#number of features\n",
        "hidden_s = 2 #number of nodes in the hidden layer\n",
        "l_r = 1#learning rate initialization\n",
        "\n",
        "theta1 = tf.cast(tf.Variable(tf.random_normal([3,hidden_s]),name = \"theta1\"),tf.float64)\n",
        "theta2 = tf.cast(tf.Variable(tf.random_normal([hidden_s+1,1]),name = \"theta2\"),tf.float64)\n",
        "\n",
        "#conducting forward propagation\n",
        "a1 = tf.concat([np.c_[np.ones(x.shape[0])],x],1)\n",
        "#the weights of the first layer are multiplied by the input of the first layer\n",
        "\n",
        "z1 = tf.matmul(a1,theta1)\n",
        "#the input of the second layer is the output of the first layer, passed through the activation function and column of biases is added\n",
        "\n",
        "a2 = tf.concat([np.c_[np.ones(x.shape[0])],tf.sigmoid(z1)],1)\n",
        "#the input of the second layer is multiplied by the weights\n",
        "\n",
        "z3 = tf.matmul(a2,theta2)\n",
        "#the output is passed through the activation function to obtain the final probability\n",
        "\n",
        "h3 = tf.sigmoid(z3)\n",
        "cost_func = -tf.reduce_sum(y*tf.log(h3)+(1-y)*tf.log(1-h3),axis = 1)\n",
        "\n",
        "#built in tensorflow optimizer that conducts gradient descent using specified learning rate to obtain theta values\n",
        "\n",
        "optimiser = tf.train.GradientDescentOptimizer(learning_rate = l_r).minimize(cost_func)\n",
        "\n",
        "#setting required X and Y values to perform XOR operation\n",
        "X = [[0,0],[0,1],[1,0],[1,1]]\n",
        "Y = [[0],[1],[1],[0]]\n",
        "\n",
        "#initializing all variables, creating a session and running a tensorflow session\n",
        "init = tf.global_variables_initializer()\n",
        "sess = tf.Session()\n",
        "sess.run(init)\n",
        "\n",
        "#running gradient descent for each iteration and printing the hypothesis obtained using the updated theta values\n",
        "for i in range(1000):\n",
        "   sess.run(optimiser, feed_dict = {x:X,y:Y})#setting place holder values using feed_dict\n",
        "   if i%100==0:\n",
        "      print(\"Epoch:\",i)\n",
        "      print(\"Hyp:\",sess.run(h3,feed_dict = {x:X,y:Y}))"
      ],
      "execution_count": 0,
      "outputs": [
        {
          "output_type": "stream",
          "text": [
            "Epoch: 0\n",
            "Hyp: [[0.50355147]\n",
            " [0.50996147]\n",
            " [0.38119275]\n",
            " [0.38629943]]\n",
            "Epoch: 100\n",
            "Hyp: [[0.057219  ]\n",
            " [0.95722126]\n",
            " [0.9543447 ]\n",
            " [0.04854633]]\n",
            "Epoch: 200\n",
            "Hyp: [[0.01959555]\n",
            " [0.98511517]\n",
            " [0.98484238]\n",
            " [0.01681575]]\n",
            "Epoch: 300\n",
            "Hyp: [[0.01159747]\n",
            " [0.99116677]\n",
            " [0.99108316]\n",
            " [0.0100126 ]]\n",
            "Epoch: 400\n",
            "Hyp: [[0.00819483]\n",
            " [0.99375191]\n",
            " [0.99371429]\n",
            " [0.00710264]]\n",
            "Epoch: 500\n",
            "Hyp: [[0.00632235]\n",
            " [0.9951769 ]\n",
            " [0.99515644]\n",
            " [0.00549531]]\n",
            "Epoch: 600\n",
            "Hyp: [[0.00514053]\n",
            " [0.99607707]\n",
            " [0.9960646 ]\n",
            " [0.00447797]]\n",
            "Epoch: 700\n",
            "Hyp: [[0.00432796]\n",
            " [0.99669636]\n",
            " [0.99668813]\n",
            " [0.00377693]]\n",
            "Epoch: 800\n",
            "Hyp: [[0.00373549]\n",
            " [0.99714804]\n",
            " [0.99714232]\n",
            " [0.00326483]]\n",
            "Epoch: 900\n",
            "Hyp: [[0.00328464]\n",
            " [0.99749184]\n",
            " [0.99748771]\n",
            " [0.00287453]]\n"
          ],
          "name": "stdout"
        }
      ]
    },
    {
      "cell_type": "markdown",
      "metadata": {
        "id": "tqaLrUDwQC55",
        "colab_type": "text"
      },
      "source": [
        "## TF Learn"
      ]
    },
    {
      "cell_type": "markdown",
      "metadata": {
        "id": "2wnKnLxkQC59",
        "colab_type": "text"
      },
      "source": [
        "`!pip install tflearn`"
      ]
    },
    {
      "cell_type": "code",
      "metadata": {
        "id": "cBQCE2FxQC6A",
        "colab_type": "code",
        "colab": {},
        "outputId": "acac9230-5a6b-4679-8f8c-41c0e088e77d"
      },
      "source": [
        "from __future__ import absolute_import, division, print_function\n",
        "\n",
        "import tensorflow as tf\n",
        "import tflearn"
      ],
      "execution_count": 0,
      "outputs": [
        {
          "output_type": "stream",
          "text": [
            "WARNING:tensorflow:From /Users/sr/opt/anaconda3/lib/python3.7/site-packages/tflearn/helpers/summarizer.py:9: The name tf.summary.merge is deprecated. Please use tf.compat.v1.summary.merge instead.\n",
            "\n",
            "WARNING:tensorflow:From /Users/sr/opt/anaconda3/lib/python3.7/site-packages/tflearn/helpers/trainer.py:25: The name tf.summary.FileWriter is deprecated. Please use tf.compat.v1.summary.FileWriter instead.\n",
            "\n",
            "WARNING:tensorflow:From /Users/sr/opt/anaconda3/lib/python3.7/site-packages/tflearn/collections.py:13: The name tf.GraphKeys is deprecated. Please use tf.compat.v1.GraphKeys instead.\n",
            "\n",
            "WARNING:tensorflow:From /Users/sr/opt/anaconda3/lib/python3.7/site-packages/tflearn/config.py:123: The name tf.get_collection is deprecated. Please use tf.compat.v1.get_collection instead.\n",
            "\n",
            "WARNING:tensorflow:From /Users/sr/opt/anaconda3/lib/python3.7/site-packages/tflearn/config.py:129: The name tf.add_to_collection is deprecated. Please use tf.compat.v1.add_to_collection instead.\n",
            "\n",
            "WARNING:tensorflow:From /Users/sr/opt/anaconda3/lib/python3.7/site-packages/tflearn/config.py:131: The name tf.assign is deprecated. Please use tf.compat.v1.assign instead.\n",
            "\n"
          ],
          "name": "stdout"
        }
      ]
    },
    {
      "cell_type": "code",
      "metadata": {
        "id": "_EzZiP4LQC6M",
        "colab_type": "code",
        "colab": {}
      },
      "source": [
        "# Logical NOT operator\n",
        "X = [[0.], [1.]]\n",
        "Y = [[1.], [0.]]"
      ],
      "execution_count": 0,
      "outputs": []
    },
    {
      "cell_type": "code",
      "metadata": {
        "id": "p-20Kmy5QC6V",
        "colab_type": "code",
        "colab": {},
        "outputId": "a0e8a2b4-bce3-4004-a566-dfdb3ec1ae27"
      },
      "source": [
        "# Graph definition\n",
        "with tf.Graph().as_default():\n",
        "    g = tflearn.input_data(shape=[None, 1])\n",
        "    g = tflearn.fully_connected(g, 128, activation='linear')\n",
        "    g = tflearn.fully_connected(g, 128, activation='linear')\n",
        "    g = tflearn.fully_connected(g, 1, activation='sigmoid')\n",
        "    g = tflearn.regression(g, optimizer='sgd', learning_rate=2.,\n",
        "                           loss='mean_square')\n",
        "\n",
        "    # Model training\n",
        "    m = tflearn.DNN(g)\n",
        "    m.fit(X, Y, n_epoch=100, snapshot_epoch=False)\n",
        "\n",
        "    # Test model\n",
        "    print(\"Testing NOT operator\")\n",
        "    print(\"NOT 0:\", m.predict([[0.]]))\n",
        "    print(\"NOT 1:\", m.predict([[1.]]))"
      ],
      "execution_count": 0,
      "outputs": [
        {
          "output_type": "stream",
          "text": [
            "Training Step: 100  | total loss: \u001b[1m\u001b[32m0.00321\u001b[0m\u001b[0m | time: 0.007s\n",
            "| SGD | epoch: 100 | loss: 0.00321 -- iter: 2/2\n",
            "Testing NOT operator\n",
            "NOT 0: [[0.9804121]]\n",
            "NOT 1: [[0.01553413]]\n"
          ],
          "name": "stdout"
        }
      ]
    },
    {
      "cell_type": "code",
      "metadata": {
        "id": "Mblx3NlUQC6d",
        "colab_type": "code",
        "colab": {},
        "outputId": "55b0b818-56c3-4b16-9dac-0b6147a20821"
      },
      "source": [
        "# Logical OR operator\n",
        "X = [[0., 0.], [0., 1.], [1., 0.], [1., 1.]]\n",
        "Y = [[0.], [1.], [1.], [1.]]\n",
        "\n",
        "# Graph definition\n",
        "with tf.Graph().as_default():\n",
        "    g = tflearn.input_data(shape=[None, 2])\n",
        "    g = tflearn.fully_connected(g, 128, activation='linear')\n",
        "    g = tflearn.fully_connected(g, 128, activation='linear')\n",
        "    g = tflearn.fully_connected(g, 1, activation='sigmoid')\n",
        "    g = tflearn.regression(g, optimizer='sgd', learning_rate=2.,\n",
        "                           loss='mean_square')\n",
        "\n",
        "    # Model training\n",
        "    m = tflearn.DNN(g)\n",
        "    m.fit(X, Y, n_epoch=100, snapshot_epoch=False)\n",
        "\n",
        "    # Test model\n",
        "    print(\"Testing OR operator\")\n",
        "    print(\"0 or 0:\", m.predict([[0., 0.]]))\n",
        "    print(\"0 or 1:\", m.predict([[0., 1.]]))\n",
        "    print(\"1 or 0:\", m.predict([[1., 0.]]))\n",
        "    print(\"1 or 1:\", m.predict([[1., 1.]]))"
      ],
      "execution_count": 0,
      "outputs": [
        {
          "output_type": "stream",
          "text": [
            "Training Step: 100  | total loss: \u001b[1m\u001b[32m0.00051\u001b[0m\u001b[0m | time: 0.006s\n",
            "| SGD | epoch: 100 | loss: 0.00051 -- iter: 4/4\n",
            "Testing OR operator\n",
            "0 or 0: [[0.02672853]]\n",
            "0 or 1: [[0.98306686]]\n",
            "1 or 0: [[0.98306537]]\n",
            "1 or 1: [[0.9999919]]\n"
          ],
          "name": "stdout"
        }
      ]
    },
    {
      "cell_type": "code",
      "metadata": {
        "id": "-nKCTkw0QC6l",
        "colab_type": "code",
        "colab": {},
        "outputId": "f7e672da-fad9-492e-975c-7d17d0bde452"
      },
      "source": [
        "# Logical AND operator\n",
        "X = [[0., 0.], [0., 1.], [1., 0.], [1., 1.]]\n",
        "Y = [[0.], [0.], [0.], [1.]]\n",
        "\n",
        "# Graph definition\n",
        "with tf.Graph().as_default():\n",
        "    g = tflearn.input_data(shape=[None, 2])\n",
        "    g = tflearn.fully_connected(g, 128, activation='linear')\n",
        "    g = tflearn.fully_connected(g, 128, activation='linear')\n",
        "    g = tflearn.fully_connected(g, 1, activation='sigmoid')\n",
        "    g = tflearn.regression(g, optimizer='sgd', learning_rate=2.,\n",
        "                           loss='mean_square')\n",
        "\n",
        "    # Model training\n",
        "    m = tflearn.DNN(g)\n",
        "    m.fit(X, Y, n_epoch=100, snapshot_epoch=False)\n",
        "\n",
        "    # Test model\n",
        "    print(\"Testing AND operator\")\n",
        "    print(\"0 and 0:\", m.predict([[0., 0.]]))\n",
        "    print(\"0 and 1:\", m.predict([[0., 1.]]))\n",
        "    print(\"1 and 0:\", m.predict([[1., 0.]]))\n",
        "    print(\"1 and 1:\", m.predict([[1., 1.]]))"
      ],
      "execution_count": 0,
      "outputs": [
        {
          "output_type": "stream",
          "text": [
            "Training Step: 100  | total loss: \u001b[1m\u001b[32m0.00119\u001b[0m\u001b[0m | time: 0.010s\n",
            "| SGD | epoch: 100 | loss: 0.00119 -- iter: 4/4\n",
            "Testing AND operator\n",
            "0 and 0: [[2.7256741e-05]]\n",
            "0 and 1: [[0.02785147]]\n",
            "1 and 0: [[0.02785124]]\n",
            "1 and 1: [[0.9678582]]\n"
          ],
          "name": "stdout"
        }
      ]
    },
    {
      "cell_type": "code",
      "metadata": {
        "id": "pkQtmQrHQC6t",
        "colab_type": "code",
        "colab": {},
        "outputId": "e063ca91-c083-4191-bb72-2bd1900c3d0e"
      },
      "source": [
        "'''\n",
        "Going further: Graph combination with multiple optimizers\n",
        "Create a XOR operator using product of NAND and OR operators\n",
        "'''\n",
        "# Data\n",
        "X = [[0., 0.], [0., 1.], [1., 0.], [1., 1.]]\n",
        "Y_nand = [[1.], [1.], [1.], [0.]]\n",
        "Y_or = [[0.], [1.], [1.], [1.]]\n",
        "\n",
        "# Graph definition\n",
        "with tf.Graph().as_default():\n",
        "    # Building a network with 2 optimizers\n",
        "    g = tflearn.input_data(shape=[None, 2])\n",
        "    # Nand operator definition\n",
        "    g_nand = tflearn.fully_connected(g, 32, activation='linear')\n",
        "    g_nand = tflearn.fully_connected(g_nand, 32, activation='linear')\n",
        "    g_nand = tflearn.fully_connected(g_nand, 1, activation='sigmoid')\n",
        "    g_nand = tflearn.regression(g_nand, optimizer='sgd',\n",
        "                                learning_rate=2.,\n",
        "                                loss='binary_crossentropy')\n",
        "    # Or operator definition\n",
        "    g_or = tflearn.fully_connected(g, 32, activation='linear')\n",
        "    g_or = tflearn.fully_connected(g_or, 32, activation='linear')\n",
        "    g_or = tflearn.fully_connected(g_or, 1, activation='sigmoid')\n",
        "    g_or = tflearn.regression(g_or, optimizer='sgd',\n",
        "                              learning_rate=2.,\n",
        "                              loss='binary_crossentropy')\n",
        "    # XOR merging Nand and Or operators\n",
        "    g_xor = tflearn.merge([g_nand, g_or], mode='elemwise_mul')\n",
        "\n",
        "    # Training\n",
        "    m = tflearn.DNN(g_xor)\n",
        "    m.fit(X, [Y_nand, Y_or], n_epoch=400, snapshot_epoch=False)\n",
        "\n",
        "    # Testing\n",
        "    print(\"Testing XOR operator\")\n",
        "    print(\"0 xor 0:\", m.predict([[0., 0.]]))\n",
        "    print(\"0 xor 1:\", m.predict([[0., 1.]]))\n",
        "    print(\"1 xor 0:\", m.predict([[1., 0.]]))\n",
        "    print(\"1 xor 1:\", m.predict([[1., 1.]]))"
      ],
      "execution_count": 0,
      "outputs": [
        {
          "output_type": "stream",
          "text": [
            "Training Step: 400  | total loss: \u001b[1m\u001b[32m0.81741\u001b[0m\u001b[0m | time: 0.010s\n",
            "| SGD_0 | epoch: 400 | loss: 0.40857 -- iter: 4/4\n",
            "| SGD_1 | epoch: 400 | loss: 0.40884 -- iter: 4/4\n",
            "Testing XOR operator\n",
            "0 xor 0: [[0.00060323]]\n",
            "0 xor 1: [[0.99814945]]\n",
            "1 xor 0: [[0.99815065]]\n",
            "1 xor 1: [[0.00097308]]\n"
          ],
          "name": "stdout"
        }
      ]
    }
  ]
}