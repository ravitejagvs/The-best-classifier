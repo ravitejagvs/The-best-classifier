{
  "nbformat": 4,
  "nbformat_minor": 0,
  "metadata": {
    "kernelspec": {
      "display_name": "Python 3",
      "language": "python",
      "name": "python3"
    },
    "language_info": {
      "codemirror_mode": {
        "name": "ipython",
        "version": 3
      },
      "file_extension": ".py",
      "mimetype": "text/x-python",
      "name": "python",
      "nbconvert_exporter": "python",
      "pygments_lexer": "ipython3",
      "version": "3.7.4"
    },
    "colab": {
      "name": "tf1-basic.ipynb",
      "provenance": [],
      "include_colab_link": true
    }
  },
  "cells": [
    {
      "cell_type": "markdown",
      "metadata": {
        "id": "view-in-github",
        "colab_type": "text"
      },
      "source": [
        "<a href=\"https://colab.research.google.com/github/ravitejagvs/The-best-classifier/blob/master/tf1_basic.ipynb\" target=\"_parent\"><img src=\"https://colab.research.google.com/assets/colab-badge.svg\" alt=\"Open In Colab\"/></a>"
      ]
    },
    {
      "cell_type": "markdown",
      "metadata": {
        "id": "EObsKEiLFGeN",
        "colab_type": "text"
      },
      "source": [
        "## Hello World in TensorFlow"
      ]
    },
    {
      "cell_type": "code",
      "metadata": {
        "id": "kG8l1g4jFGeR",
        "colab_type": "code",
        "colab": {
          "base_uri": "https://localhost:8080/",
          "height": 64
        },
        "outputId": "51fe6c07-4b17-4d47-d30f-a937e177fced"
      },
      "source": [
        "# TensorFlow program to display Hello World\n",
        "\n",
        "from __future__ import absolute_import\n",
        "from __future__ import division\n",
        "from __future__ import print_function\n",
        "\n",
        "import tensorflow as tf"
      ],
      "execution_count": 1,
      "outputs": [
        {
          "output_type": "display_data",
          "data": {
            "text/html": [
              "<p style=\"color: red;\">\n",
              "The default version of TensorFlow in Colab will soon switch to TensorFlow 2.x.<br>\n",
              "We recommend you <a href=\"https://www.tensorflow.org/guide/migrate\" target=\"_blank\">upgrade</a> now \n",
              "or ensure your notebook will continue to use TensorFlow 1.x via the <code>%tensorflow_version 1.x</code> magic:\n",
              "<a href=\"https://colab.research.google.com/notebooks/tensorflow_version.ipynb\" target=\"_blank\">more info</a>.</p>\n"
            ],
            "text/plain": [
              "<IPython.core.display.HTML object>"
            ]
          },
          "metadata": {
            "tags": []
          }
        }
      ]
    },
    {
      "cell_type": "markdown",
      "metadata": {
        "id": "RmkH5-stFGeX",
        "colab_type": "text"
      },
      "source": [
        "First few important lines should be present in all Python files as per TensorFlow Style Guide:\n",
        "``` python\n",
        "from __future__ import absolute_import\n",
        "from __future__ import division\n",
        "from __future__ import print_function\n",
        "```"
      ]
    },
    {
      "cell_type": "code",
      "metadata": {
        "id": "GCIYwkUMFGeZ",
        "colab_type": "code",
        "colab": {}
      },
      "source": [
        "# Create tensor\n",
        "hello = tf.string_join([\"Hello, World\"])"
      ],
      "execution_count": 0,
      "outputs": []
    },
    {
      "cell_type": "markdown",
      "metadata": {
        "id": "5YPvGcm3FGee",
        "colab_type": "text"
      },
      "source": [
        "Creates a Tensor named `hello` that contains two string elements."
      ]
    },
    {
      "cell_type": "code",
      "metadata": {
        "id": "6C3SO8KSFGeg",
        "colab_type": "code",
        "colab": {}
      },
      "source": [
        "# Launch session\n",
        "sess = tf.Session()"
      ],
      "execution_count": 0,
      "outputs": []
    },
    {
      "cell_type": "markdown",
      "metadata": {
        "id": "5eW1c2e7FGek",
        "colab_type": "text"
      },
      "source": [
        "Creates a Session object named `sess`, acts as an interface to the external TensorFlow computation mechanism."
      ]
    },
    {
      "cell_type": "code",
      "metadata": {
        "id": "xm76BlgHFGem",
        "colab_type": "code",
        "colab": {
          "base_uri": "https://localhost:8080/",
          "height": 35
        },
        "outputId": "4598ec43-d5fa-4fb7-c974-fd8bb83d7b4a"
      },
      "source": [
        "print(sess.run(hello))"
      ],
      "execution_count": 4,
      "outputs": [
        {
          "output_type": "stream",
          "text": [
            "b'Hello, World'\n"
          ],
          "name": "stdout"
        }
      ]
    },
    {
      "cell_type": "markdown",
      "metadata": {
        "id": "ADlCZ17AFGeq",
        "colab_type": "text"
      },
      "source": [
        "Launches the new Session and prints its result."
      ]
    },
    {
      "cell_type": "markdown",
      "metadata": {
        "id": "AW49yosgFGer",
        "colab_type": "text"
      },
      "source": [
        "# TensorFlow Primitives"
      ]
    },
    {
      "cell_type": "markdown",
      "metadata": {
        "id": "6TbTwqMsFGes",
        "colab_type": "text"
      },
      "source": [
        "TensorFlow's central data type is the tensor.\n",
        "\n",
        "- **Tensors** are the underlying components of computation and a fundamental data structure in TensorFlow.\n",
        "- Without using complex mathematical interpretations, we can say a \"*tensor (in TensorFlow) describes a multidimensional numerical array, with zero or n-dimensional collection of data, determined by rank, shape, and type.*\""
      ]
    },
    {
      "cell_type": "markdown",
      "metadata": {
        "id": "iPoZpvC_FGet",
        "colab_type": "text"
      },
      "source": [
        "A rank, shape and type are three parameters, by a tensors can be identified.\n",
        "\n",
        "**Rank**: A tensor may have numerous dimensions, and the number of dimensions in a tensor is its rank.\n",
        "\n",
        "**Shape**: The lengths of a tensor's dimensions form an array called the tensor's shape. In other words, the shape of a tensor is the number of rows and columns it has.\n",
        "- A zero-dimensional(rank zero) tensor is called a scalar; has shape of `[1]`.\n",
        "- A one-dimensional(rank one) tensor is called a vector; has shape of `[columns]` or `[rows]`.\n",
        "- A two-dimensional(rank two) tensor is called a matrix; has shape of `[rows,columns]`.\n",
        "\n",
        "**Type**: It is the data type assigned to the tensor's elements(items).\n",
        "\n",
        "- Each tensor is an instance of the Tensor class.\n",
        "- A tensor may consist of numbers, strings, floating-point or Boolean values.\n",
        "- Each item or element of a tensor must have the same data type.\n",
        "- Using functions of the `tf` package we can create, process, transform and operate tensors."
      ]
    },
    {
      "cell_type": "markdown",
      "metadata": {
        "id": "nb8eLaXKFGeu",
        "colab_type": "text"
      },
      "source": [
        "## Create tensors using different functions"
      ]
    },
    {
      "cell_type": "markdown",
      "metadata": {
        "id": "s6J9W49QFGev",
        "colab_type": "text"
      },
      "source": [
        "### Create tensor using `constant` function\n",
        "The `constant` function is most popular function to create tensors. The only required argument is value or list of values used to create tensor.\n",
        "The default data type is `float32` is list of values are of floating type and `int32` if values are integer type."
      ]
    },
    {
      "cell_type": "code",
      "metadata": {
        "id": "c_KbnggdFGew",
        "colab_type": "code",
        "colab": {}
      },
      "source": [
        "t1 = tf.constant([1, 2, 3])    # one-dimensional tensor containing three integer values [data-type int32]."
      ],
      "execution_count": 0,
      "outputs": []
    },
    {
      "cell_type": "code",
      "metadata": {
        "id": "KwvBs7q1FGe1",
        "colab_type": "code",
        "colab": {}
      },
      "source": [
        "t2 = tf.constant([[1.1, 2.2, 3.3], [4, 5, 6]])     # t2 is a two-dimensional tensor containing floating-point values [data-type float32]."
      ],
      "execution_count": 0,
      "outputs": []
    },
    {
      "cell_type": "code",
      "metadata": {
        "id": "9HgA7oNCFGe3",
        "colab_type": "code",
        "colab": {}
      },
      "source": [
        "t3 = tf.constant([[1, 2, 3], [4, 5, 6], [7, 8, 9]])  # two-dimensional tensor"
      ],
      "execution_count": 0,
      "outputs": []
    },
    {
      "cell_type": "code",
      "metadata": {
        "id": "dpKfwBiTFGe6",
        "colab_type": "code",
        "colab": {}
      },
      "source": [
        "t4 = tf.constant([\"India\", \"Germany\"])          # one-dimensional tensor with strings"
      ],
      "execution_count": 0,
      "outputs": []
    },
    {
      "cell_type": "code",
      "metadata": {
        "id": "lmPUkTYoFGe9",
        "colab_type": "code",
        "colab": {}
      },
      "source": [
        "t5 = tf.constant([15.5, 20.5, 35.5, 40.1, 80.5], tf.float16, [5], 'T5', False)"
      ],
      "execution_count": 0,
      "outputs": []
    },
    {
      "cell_type": "markdown",
      "metadata": {
        "id": "rnLJE9BHFGfA",
        "colab_type": "text"
      },
      "source": [
        "We have specified `data-type` as `float16`; `name` as `T5`; and `shape` as `6`. Note If we will pass more than 6 elements it will throw an error \n",
        "```python\n",
        "Too many elements provided. Needed at most 6, but received 7\n",
        "```"
      ]
    },
    {
      "cell_type": "code",
      "metadata": {
        "id": "fshS4k1nFGfB",
        "colab_type": "code",
        "colab": {}
      },
      "source": [
        "sess = tf.Session()"
      ],
      "execution_count": 0,
      "outputs": []
    },
    {
      "cell_type": "code",
      "metadata": {
        "id": "RqyBSDl0FGfD",
        "colab_type": "code",
        "colab": {
          "base_uri": "https://localhost:8080/",
          "height": 35
        },
        "outputId": "665ff869-264a-400b-ed67-fbe2d69927d5"
      },
      "source": [
        "print(t1)"
      ],
      "execution_count": 11,
      "outputs": [
        {
          "output_type": "stream",
          "text": [
            "Tensor(\"Const:0\", shape=(3,), dtype=int32)\n"
          ],
          "name": "stdout"
        }
      ]
    },
    {
      "cell_type": "code",
      "metadata": {
        "id": "H9Yv-_4CFGfH",
        "colab_type": "code",
        "colab": {
          "base_uri": "https://localhost:8080/",
          "height": 35
        },
        "outputId": "64967f75-7637-4bdb-a629-7f2afd2ab535"
      },
      "source": [
        "print(t2)"
      ],
      "execution_count": 12,
      "outputs": [
        {
          "output_type": "stream",
          "text": [
            "Tensor(\"Const_1:0\", shape=(2, 3), dtype=float32)\n"
          ],
          "name": "stdout"
        }
      ]
    },
    {
      "cell_type": "code",
      "metadata": {
        "id": "wDKtcvZDFGfK",
        "colab_type": "code",
        "colab": {
          "base_uri": "https://localhost:8080/",
          "height": 35
        },
        "outputId": "af8651b8-b5c9-4516-a1b6-cd8236634110"
      },
      "source": [
        "print(t3)"
      ],
      "execution_count": 13,
      "outputs": [
        {
          "output_type": "stream",
          "text": [
            "Tensor(\"Const_2:0\", shape=(3, 3), dtype=int32)\n"
          ],
          "name": "stdout"
        }
      ]
    },
    {
      "cell_type": "code",
      "metadata": {
        "id": "UPklQrsYFGfN",
        "colab_type": "code",
        "colab": {
          "base_uri": "https://localhost:8080/",
          "height": 70
        },
        "outputId": "33983bb1-9bcd-420f-9638-768e999808d8"
      },
      "source": [
        "print(sess.run(t3))"
      ],
      "execution_count": 14,
      "outputs": [
        {
          "output_type": "stream",
          "text": [
            "[[1 2 3]\n",
            " [4 5 6]\n",
            " [7 8 9]]\n"
          ],
          "name": "stdout"
        }
      ]
    },
    {
      "cell_type": "code",
      "metadata": {
        "id": "YKMjJ5xCFGfQ",
        "colab_type": "code",
        "colab": {
          "base_uri": "https://localhost:8080/",
          "height": 35
        },
        "outputId": "6a0a4174-dec3-4a6f-c8e5-b316643a43ea"
      },
      "source": [
        "print(t4)"
      ],
      "execution_count": 15,
      "outputs": [
        {
          "output_type": "stream",
          "text": [
            "Tensor(\"Const_3:0\", shape=(2,), dtype=string)\n"
          ],
          "name": "stdout"
        }
      ]
    },
    {
      "cell_type": "code",
      "metadata": {
        "id": "y5lFcFptFGfS",
        "colab_type": "code",
        "colab": {
          "base_uri": "https://localhost:8080/",
          "height": 35
        },
        "outputId": "0221738e-7815-4275-d7fe-a1a3c1979f23"
      },
      "source": [
        "print(sess.run(t4))"
      ],
      "execution_count": 16,
      "outputs": [
        {
          "output_type": "stream",
          "text": [
            "[b'India' b'Germany']\n"
          ],
          "name": "stdout"
        }
      ]
    },
    {
      "cell_type": "code",
      "metadata": {
        "id": "oakQwXpJFGfV",
        "colab_type": "code",
        "colab": {
          "base_uri": "https://localhost:8080/",
          "height": 35
        },
        "outputId": "0200d6a3-6a55-4dad-838d-71cc60a39771"
      },
      "source": [
        "print(t5)"
      ],
      "execution_count": 17,
      "outputs": [
        {
          "output_type": "stream",
          "text": [
            "Tensor(\"T5:0\", shape=(5,), dtype=float16)\n"
          ],
          "name": "stdout"
        }
      ]
    },
    {
      "cell_type": "code",
      "metadata": {
        "id": "IbprehJ3FGfY",
        "colab_type": "code",
        "colab": {
          "base_uri": "https://localhost:8080/",
          "height": 35
        },
        "outputId": "aa306d2d-158a-4550-a5df-e485e2c4424a"
      },
      "source": [
        "print(sess.run(t5))"
      ],
      "execution_count": 18,
      "outputs": [
        {
          "output_type": "stream",
          "text": [
            "[15.5 20.5 35.5 40.1 80.5]\n"
          ],
          "name": "stdout"
        }
      ]
    },
    {
      "cell_type": "markdown",
      "metadata": {
        "id": "O62FXr4nFGfb",
        "colab_type": "text"
      },
      "source": [
        "### Create tensor using `zeros` function\n",
        "The function `zeros` create tensors with all elements set to zero and the only required argument of function is shape of tensor."
      ]
    },
    {
      "cell_type": "code",
      "metadata": {
        "id": "SmTxWGcTFGfb",
        "colab_type": "code",
        "colab": {}
      },
      "source": [
        "zero_tensor = tf.zeros([3])                 # shape 3 tensor"
      ],
      "execution_count": 0,
      "outputs": []
    },
    {
      "cell_type": "code",
      "metadata": {
        "id": "zNTsFC-oFGfe",
        "colab_type": "code",
        "colab": {},
        "outputId": "9ab1fcf7-98ad-41ae-9613-cae43546091e"
      },
      "source": [
        "print(zero_tensor)"
      ],
      "execution_count": 0,
      "outputs": [
        {
          "output_type": "stream",
          "text": [
            "Tensor(\"zeros:0\", shape=(3,), dtype=float32)\n"
          ],
          "name": "stdout"
        }
      ]
    },
    {
      "cell_type": "code",
      "metadata": {
        "id": "RGlRW-5dFGfg",
        "colab_type": "code",
        "colab": {}
      },
      "source": [
        "zero_tensor_int = tf.zeros([3], tf.int32, 'ZeroTensor')"
      ],
      "execution_count": 0,
      "outputs": []
    },
    {
      "cell_type": "code",
      "metadata": {
        "id": "09yuT9r9FGfk",
        "colab_type": "code",
        "colab": {},
        "outputId": "0c9d45f6-b9c4-41bf-f866-0148415ed679"
      },
      "source": [
        "print(zero_tensor_int)                  # name: ZeroTensor, shape: 3"
      ],
      "execution_count": 0,
      "outputs": [
        {
          "output_type": "stream",
          "text": [
            "Tensor(\"ZeroTensor_1:0\", shape=(3,), dtype=int32)\n"
          ],
          "name": "stdout"
        }
      ]
    },
    {
      "cell_type": "code",
      "metadata": {
        "id": "GO7-4GSaFGfm",
        "colab_type": "code",
        "colab": {}
      },
      "source": [
        "zero_tensor_4x_4x_4x = tf.zeros([4, 4, 4], tf.int8, '4X-ZeroTensor')    # d-type: int-8"
      ],
      "execution_count": 0,
      "outputs": []
    },
    {
      "cell_type": "code",
      "metadata": {
        "id": "CIzltarxFGfo",
        "colab_type": "code",
        "colab": {},
        "outputId": "f40648ae-d836-420a-f554-efbf55a8f25f"
      },
      "source": [
        "print(zero_tensor_4x_4x_4x)"
      ],
      "execution_count": 0,
      "outputs": [
        {
          "output_type": "stream",
          "text": [
            "Tensor(\"4X-ZeroTensor:0\", shape=(4, 4, 4), dtype=int8)\n"
          ],
          "name": "stdout"
        }
      ]
    },
    {
      "cell_type": "code",
      "metadata": {
        "id": "R_-BrnQ8FGfr",
        "colab_type": "code",
        "colab": {},
        "outputId": "49591ed4-06dc-4974-9a5d-cfab6c231713"
      },
      "source": [
        "sess = tf.Session()\n",
        "print(sess.run(zero_tensor_4x_4x_4x))"
      ],
      "execution_count": 0,
      "outputs": [
        {
          "output_type": "stream",
          "text": [
            "[[[0 0 0 0]\n",
            "  [0 0 0 0]\n",
            "  [0 0 0 0]\n",
            "  [0 0 0 0]]\n",
            "\n",
            " [[0 0 0 0]\n",
            "  [0 0 0 0]\n",
            "  [0 0 0 0]\n",
            "  [0 0 0 0]]\n",
            "\n",
            " [[0 0 0 0]\n",
            "  [0 0 0 0]\n",
            "  [0 0 0 0]\n",
            "  [0 0 0 0]]\n",
            "\n",
            " [[0 0 0 0]\n",
            "  [0 0 0 0]\n",
            "  [0 0 0 0]\n",
            "  [0 0 0 0]]]\n"
          ],
          "name": "stdout"
        }
      ]
    },
    {
      "cell_type": "markdown",
      "metadata": {
        "id": "99YC4DQjFGft",
        "colab_type": "text"
      },
      "source": [
        "### Create tensor using `ones` function\n",
        "The function `ones` also create tensors with all elements set to one and the only required argument of function is `shape` of tensor."
      ]
    },
    {
      "cell_type": "code",
      "metadata": {
        "id": "33t2hjFJFGfu",
        "colab_type": "code",
        "colab": {}
      },
      "source": [
        "one_tensor = tf.ones([3])                  # shape: 3"
      ],
      "execution_count": 0,
      "outputs": []
    },
    {
      "cell_type": "code",
      "metadata": {
        "id": "wXkSIginFGfx",
        "colab_type": "code",
        "colab": {},
        "outputId": "69a1781b-ddf0-472e-cf3a-4a29d13a13d2"
      },
      "source": [
        "print(one_tensor)"
      ],
      "execution_count": 0,
      "outputs": [
        {
          "output_type": "stream",
          "text": [
            "Tensor(\"ones:0\", shape=(3,), dtype=float32)\n"
          ],
          "name": "stdout"
        }
      ]
    },
    {
      "cell_type": "code",
      "metadata": {
        "id": "2MUVUiPyFGfz",
        "colab_type": "code",
        "colab": {}
      },
      "source": [
        "one_tensor_int = tf.ones([2, 2], tf.complex64, 'Complex-OneTensor')      # name: Complex-OneTensor, shape: 2x2, d-type: complex64"
      ],
      "execution_count": 0,
      "outputs": []
    },
    {
      "cell_type": "code",
      "metadata": {
        "id": "pSZ1_QUOFGf2",
        "colab_type": "code",
        "colab": {},
        "outputId": "40c99464-a194-46f0-8ce1-76fc87404e48"
      },
      "source": [
        "print(one_tensor_int)"
      ],
      "execution_count": 0,
      "outputs": [
        {
          "output_type": "stream",
          "text": [
            "Tensor(\"Complex-OneTensor:0\", shape=(2, 2), dtype=complex64)\n"
          ],
          "name": "stdout"
        }
      ]
    },
    {
      "cell_type": "code",
      "metadata": {
        "id": "Lw_pCn0NFGf4",
        "colab_type": "code",
        "colab": {}
      },
      "source": [
        "one_tensor_4x_4x_4x = tf.ones([4, 4, 4], tf.int8, '4X-ZeroTensor')       # name: 4X-ZeroTensor, shape: 4x4x4, d-type: int8"
      ],
      "execution_count": 0,
      "outputs": []
    },
    {
      "cell_type": "code",
      "metadata": {
        "id": "XXx46CRwFGf6",
        "colab_type": "code",
        "colab": {}
      },
      "source": [
        "sess = tf.Session()"
      ],
      "execution_count": 0,
      "outputs": []
    },
    {
      "cell_type": "code",
      "metadata": {
        "id": "k7yY7WzcFGf9",
        "colab_type": "code",
        "colab": {},
        "outputId": "7a6fa7d6-fc87-40f8-9c7c-3b3523394d39"
      },
      "source": [
        "print(sess.run(one_tensor_4x_4x_4x))"
      ],
      "execution_count": 0,
      "outputs": [
        {
          "output_type": "stream",
          "text": [
            "[[[1 1 1 1]\n",
            "  [1 1 1 1]\n",
            "  [1 1 1 1]\n",
            "  [1 1 1 1]]\n",
            "\n",
            " [[1 1 1 1]\n",
            "  [1 1 1 1]\n",
            "  [1 1 1 1]\n",
            "  [1 1 1 1]]\n",
            "\n",
            " [[1 1 1 1]\n",
            "  [1 1 1 1]\n",
            "  [1 1 1 1]\n",
            "  [1 1 1 1]]\n",
            "\n",
            " [[1 1 1 1]\n",
            "  [1 1 1 1]\n",
            "  [1 1 1 1]\n",
            "  [1 1 1 1]]]\n"
          ],
          "name": "stdout"
        }
      ]
    },
    {
      "cell_type": "markdown",
      "metadata": {
        "id": "kEd5NfFuFGf_",
        "colab_type": "text"
      },
      "source": [
        "### Create tensor using `fill` function\n",
        "The function `fill` creates tensors with all elements having same value to pass in an argument. Data-type of tensor depends upon value passed in argument."
      ]
    },
    {
      "cell_type": "code",
      "metadata": {
        "id": "I2HNJg99FGf_",
        "colab_type": "code",
        "colab": {}
      },
      "source": [
        "fill_tensor = tf.fill([3], 10)             # shape: 3, all-values: 10"
      ],
      "execution_count": 0,
      "outputs": []
    },
    {
      "cell_type": "code",
      "metadata": {
        "id": "r-ZcJR6tFGgC",
        "colab_type": "code",
        "colab": {},
        "outputId": "837bb165-7399-41ec-9757-2c18776cf1fb"
      },
      "source": [
        "print(fill_tensor)"
      ],
      "execution_count": 0,
      "outputs": [
        {
          "output_type": "stream",
          "text": [
            "Tensor(\"Fill:0\", shape=(3,), dtype=int32)\n"
          ],
          "name": "stdout"
        }
      ]
    },
    {
      "cell_type": "code",
      "metadata": {
        "id": "RXZsi-xfFGgE",
        "colab_type": "code",
        "colab": {}
      },
      "source": [
        "sess = tf.Session()"
      ],
      "execution_count": 0,
      "outputs": []
    },
    {
      "cell_type": "code",
      "metadata": {
        "id": "em2BTleZFGgF",
        "colab_type": "code",
        "colab": {},
        "outputId": "0f1ffb31-bf22-478a-bb7a-d2f84ed7ddd7"
      },
      "source": [
        "print(sess.run(fill_tensor))"
      ],
      "execution_count": 0,
      "outputs": [
        {
          "output_type": "stream",
          "text": [
            "[10 10 10]\n"
          ],
          "name": "stdout"
        }
      ]
    },
    {
      "cell_type": "code",
      "metadata": {
        "id": "DnIwyhzoFGgI",
        "colab_type": "code",
        "colab": {}
      },
      "source": [
        "fill_tensor_2x_2x = tf.fill([2, 2], 15, '2x-Fill-Tensor')              # shape: 2x2, all-values: 15, name: 2x-Fill-Tensor"
      ],
      "execution_count": 0,
      "outputs": []
    },
    {
      "cell_type": "code",
      "metadata": {
        "id": "d5-T46vCFGgL",
        "colab_type": "code",
        "colab": {}
      },
      "source": [
        "print(fill_tensor_2x_2x)"
      ],
      "execution_count": 0,
      "outputs": []
    },
    {
      "cell_type": "code",
      "metadata": {
        "id": "rbRyQ0etFGgO",
        "colab_type": "code",
        "colab": {}
      },
      "source": [
        "print(sess.run(fill_tensor_2x_2x))"
      ],
      "execution_count": 0,
      "outputs": []
    },
    {
      "cell_type": "code",
      "metadata": {
        "id": "87eFKIbSFGgQ",
        "colab_type": "code",
        "colab": {}
      },
      "source": [
        "fill_tensor_string = tf.fill([2, 2], \"Japan\", 'String-Fill-Tensor')    # shape: 2x2, all-values: 'Japan', name: String-Fill-Tensor"
      ],
      "execution_count": 0,
      "outputs": []
    },
    {
      "cell_type": "code",
      "metadata": {
        "id": "lxzYC83UFGgS",
        "colab_type": "code",
        "colab": {}
      },
      "source": [
        "print(fill_tensor_string)"
      ],
      "execution_count": 0,
      "outputs": []
    },
    {
      "cell_type": "code",
      "metadata": {
        "id": "qNUivtZbFGgX",
        "colab_type": "code",
        "colab": {}
      },
      "source": [
        "print(sess.run(fill_tensor_string))"
      ],
      "execution_count": 0,
      "outputs": []
    },
    {
      "cell_type": "code",
      "metadata": {
        "id": "PsJ1rQIkFGgY",
        "colab_type": "code",
        "colab": {}
      },
      "source": [
        "fill_tensor_4x_4x_4x = tf.fill([4, 4, 4], 10.15, '4X-Fill-Tensor')     # shape: 4x4x4, all-vlaues: 10.15, name: 4X-Fill-Tensor"
      ],
      "execution_count": 0,
      "outputs": []
    },
    {
      "cell_type": "code",
      "metadata": {
        "id": "AC9Ns94gFGgd",
        "colab_type": "code",
        "colab": {}
      },
      "source": [
        "print(fill_tensor_4x_4x_4x)"
      ],
      "execution_count": 0,
      "outputs": []
    },
    {
      "cell_type": "code",
      "metadata": {
        "id": "m1FQ5HoQFGgg",
        "colab_type": "code",
        "colab": {}
      },
      "source": [
        "print(sess.run(fill_tensor_4x_4x_4x))"
      ],
      "execution_count": 0,
      "outputs": []
    },
    {
      "cell_type": "markdown",
      "metadata": {
        "id": "r8nE2pPEFGgi",
        "colab_type": "text"
      },
      "source": [
        "### Create tensor using `linspace` function"
      ]
    },
    {
      "cell_type": "code",
      "metadata": {
        "id": "mWXnOZKXFGgi",
        "colab_type": "code",
        "colab": {}
      },
      "source": [
        "linspace_tensor = tf.linspace(5.0, 10.0, 5, \"Linspace-Tensor\")          # name: Linspace-Tensor, values: 5-10 with 5 equally divided elements"
      ],
      "execution_count": 0,
      "outputs": []
    },
    {
      "cell_type": "code",
      "metadata": {
        "id": "7-SCN4pdFGgl",
        "colab_type": "code",
        "colab": {}
      },
      "source": [
        "print(linspace_tensor)"
      ],
      "execution_count": 0,
      "outputs": []
    },
    {
      "cell_type": "code",
      "metadata": {
        "id": "EG4VzZEDFGgn",
        "colab_type": "code",
        "colab": {}
      },
      "source": [
        "sess = tf.Session()"
      ],
      "execution_count": 0,
      "outputs": []
    },
    {
      "cell_type": "code",
      "metadata": {
        "id": "X-Jrj1UkFGgr",
        "colab_type": "code",
        "colab": {}
      },
      "source": [
        "print(sess.run(linspace_tensor))"
      ],
      "execution_count": 0,
      "outputs": []
    },
    {
      "cell_type": "code",
      "metadata": {
        "id": "qVrRU-kQFGgt",
        "colab_type": "code",
        "colab": {}
      },
      "source": [
        "linspace_tensor_dec = tf.linspace(100.0, 20.0, 20, \"Linspace-Tensor-Down\")  # name: Linspace-Tensor-Down, values: 100-20 with equally space 20 values"
      ],
      "execution_count": 0,
      "outputs": []
    },
    {
      "cell_type": "code",
      "metadata": {
        "id": "q32xi-UqFGgv",
        "colab_type": "code",
        "colab": {}
      },
      "source": [
        "print(linspace_tensor_dec)"
      ],
      "execution_count": 0,
      "outputs": []
    },
    {
      "cell_type": "code",
      "metadata": {
        "id": "mkk39_mdFGgw",
        "colab_type": "code",
        "colab": {}
      },
      "source": [
        "print(sess.run(linspace_tensor_dec))"
      ],
      "execution_count": 0,
      "outputs": []
    },
    {
      "cell_type": "markdown",
      "metadata": {
        "id": "2p43BI-jFGgy",
        "colab_type": "text"
      },
      "source": [
        "### Create tensor using `range` function\n",
        "The `range` functions create tensors without accepting number of elements, however it computes successive elements by adding a value called `delta`."
      ]
    },
    {
      "cell_type": "code",
      "metadata": {
        "id": "9CtxPPcXFGgz",
        "colab_type": "code",
        "colab": {}
      },
      "source": [
        "range_tensor = tf.range(20.0, 100.0, delta=15.5)                         # 20-100 with an increment of 15.5"
      ],
      "execution_count": 0,
      "outputs": []
    },
    {
      "cell_type": "code",
      "metadata": {
        "id": "QJoC1SGXFGg0",
        "colab_type": "code",
        "colab": {}
      },
      "source": [
        "print(range_tensor)"
      ],
      "execution_count": 0,
      "outputs": []
    },
    {
      "cell_type": "code",
      "metadata": {
        "id": "oTrPiiUgFGg2",
        "colab_type": "code",
        "colab": {}
      },
      "source": [
        "sess = tf.Session()"
      ],
      "execution_count": 0,
      "outputs": []
    },
    {
      "cell_type": "code",
      "metadata": {
        "id": "Ma_qFTtzFGg5",
        "colab_type": "code",
        "colab": {}
      },
      "source": [
        "print(sess.run(range_tensor))"
      ],
      "execution_count": 0,
      "outputs": []
    },
    {
      "cell_type": "code",
      "metadata": {
        "id": "1B2vJIVNFGg7",
        "colab_type": "code",
        "colab": {}
      },
      "source": [
        "range_tensor_delta = tf.range(100.0, delta=15.5, name=\"Range-Tensor\")    # name: Range-Tensor, values: 0-100 with an increment of 15.5"
      ],
      "execution_count": 0,
      "outputs": []
    },
    {
      "cell_type": "code",
      "metadata": {
        "id": "z2t-FseQFGg8",
        "colab_type": "code",
        "colab": {}
      },
      "source": [
        "print(range_tensor_delta)"
      ],
      "execution_count": 0,
      "outputs": []
    },
    {
      "cell_type": "code",
      "metadata": {
        "id": "ksvu3zT2FGg_",
        "colab_type": "code",
        "colab": {}
      },
      "source": [
        "print(sess.run(range_tensor_delta))"
      ],
      "execution_count": 0,
      "outputs": []
    },
    {
      "cell_type": "markdown",
      "metadata": {
        "id": "QGsJbXZ-FGhA",
        "colab_type": "text"
      },
      "source": [
        "### Creating tensors with random values\n",
        "The `random_normal` function creates a tensor with `normal`ly distributed values.\n",
        "\n",
        "The `random_uniform` function creates a tensor with `uniform`ly distributed values between the minimum and maximum values."
      ]
    },
    {
      "cell_type": "code",
      "metadata": {
        "id": "YgCwtAJOFGhA",
        "colab_type": "code",
        "colab": {}
      },
      "source": [
        "random_normal_tensor = tf.random_normal([10], mean=1.0, stddev=2.0,\n",
        "                                        dtype=tf.float64, name=\"RNT\")          # normal distribution with maen=1 & standard deviation=2"
      ],
      "execution_count": 0,
      "outputs": []
    },
    {
      "cell_type": "code",
      "metadata": {
        "id": "yTCIkfhSFGhC",
        "colab_type": "code",
        "colab": {}
      },
      "source": [
        "print(random_normal_tensor)"
      ],
      "execution_count": 0,
      "outputs": []
    },
    {
      "cell_type": "code",
      "metadata": {
        "id": "1cE33S0WFGhE",
        "colab_type": "code",
        "colab": {}
      },
      "source": [
        "sess = tf.Session()"
      ],
      "execution_count": 0,
      "outputs": []
    },
    {
      "cell_type": "code",
      "metadata": {
        "id": "raDrfLoGFGhH",
        "colab_type": "code",
        "colab": {}
      },
      "source": [
        "print(sess.run(random_normal_tensor))"
      ],
      "execution_count": 0,
      "outputs": []
    },
    {
      "cell_type": "code",
      "metadata": {
        "id": "vfnQFip5FGhK",
        "colab_type": "code",
        "colab": {}
      },
      "source": [
        "random_uniform_tensor = tf.random_uniform([10], minval=0.0, maxval=5.0,\n",
        "                                          dtype=tf.float64, name=\"RUT\")        # uniform distribution with minimum 0 and maximun 5"
      ],
      "execution_count": 0,
      "outputs": []
    },
    {
      "cell_type": "code",
      "metadata": {
        "id": "b4wQgOQ-FGhL",
        "colab_type": "code",
        "colab": {}
      },
      "source": [
        "print(random_uniform_tensor)"
      ],
      "execution_count": 0,
      "outputs": []
    },
    {
      "cell_type": "code",
      "metadata": {
        "id": "MIL4htOwFGhP",
        "colab_type": "code",
        "colab": {}
      },
      "source": [
        "print(sess.run(random_uniform_tensor))"
      ],
      "execution_count": 0,
      "outputs": []
    },
    {
      "cell_type": "markdown",
      "metadata": {
        "id": "B7xtTi8lFGhR",
        "colab_type": "text"
      },
      "source": [
        "## Transforming tensors using different functions"
      ]
    },
    {
      "cell_type": "markdown",
      "metadata": {
        "id": "dDyw54cSFGhS",
        "colab_type": "text"
      },
      "source": [
        "### Reshape a tensor\n",
        "The function `reshape` used to change the shape of a tensor with same element and data-type."
      ]
    },
    {
      "cell_type": "code",
      "metadata": {
        "id": "civ28jZxFGhS",
        "colab_type": "code",
        "colab": {}
      },
      "source": [
        "t1 = tf.constant([[1, 2, 3], [4, 5, 6]])          # two-dimensional tensor with shape 2x3"
      ],
      "execution_count": 0,
      "outputs": []
    },
    {
      "cell_type": "code",
      "metadata": {
        "id": "MgQaMo7HFGhV",
        "colab_type": "code",
        "colab": {}
      },
      "source": [
        "print(t1)"
      ],
      "execution_count": 0,
      "outputs": []
    },
    {
      "cell_type": "code",
      "metadata": {
        "id": "RiKw8EJgFGhY",
        "colab_type": "code",
        "colab": {}
      },
      "source": [
        "sess = tf.Session()"
      ],
      "execution_count": 0,
      "outputs": []
    },
    {
      "cell_type": "code",
      "metadata": {
        "id": "YdUoz84ZFGhb",
        "colab_type": "code",
        "colab": {}
      },
      "source": [
        "print(sess.run(t1))"
      ],
      "execution_count": 0,
      "outputs": []
    },
    {
      "cell_type": "code",
      "metadata": {
        "id": "SOEfobnMFGhg",
        "colab_type": "code",
        "colab": {}
      },
      "source": [
        "r1 = tf.reshape(t1, [3, 2])                       # reshaping t1 to 3x2 tensor"
      ],
      "execution_count": 0,
      "outputs": []
    },
    {
      "cell_type": "code",
      "metadata": {
        "id": "q1gpl5GoFGhj",
        "colab_type": "code",
        "colab": {}
      },
      "source": [
        "print(r1)"
      ],
      "execution_count": 0,
      "outputs": []
    },
    {
      "cell_type": "code",
      "metadata": {
        "id": "0r1RzgZVFGhl",
        "colab_type": "code",
        "colab": {}
      },
      "source": [
        "print(sess.run(r1))"
      ],
      "execution_count": 0,
      "outputs": []
    },
    {
      "cell_type": "code",
      "metadata": {
        "id": "HXXDBg-gFGho",
        "colab_type": "code",
        "colab": {}
      },
      "source": [
        "t2 = tf.constant([1, 2, 3, 4, 5, 6, 7, 8])        # one-dimensional tensor with shape 1x8"
      ],
      "execution_count": 0,
      "outputs": []
    },
    {
      "cell_type": "code",
      "metadata": {
        "id": "b7lIAzKLFGhs",
        "colab_type": "code",
        "colab": {}
      },
      "source": [
        "print(t2)"
      ],
      "execution_count": 0,
      "outputs": []
    },
    {
      "cell_type": "code",
      "metadata": {
        "id": "eP8HkELEFGhw",
        "colab_type": "code",
        "colab": {}
      },
      "source": [
        "print(sess.run(t2))"
      ],
      "execution_count": 0,
      "outputs": []
    },
    {
      "cell_type": "code",
      "metadata": {
        "id": "P3748syoFGhy",
        "colab_type": "code",
        "colab": {}
      },
      "source": [
        "r2 = tf.reshape(t2, [4, 2])                       # reshaping it to 4x2 tensor"
      ],
      "execution_count": 0,
      "outputs": []
    },
    {
      "cell_type": "code",
      "metadata": {
        "id": "SIh-2VxxFGh0",
        "colab_type": "code",
        "colab": {}
      },
      "source": [
        "print(r2)"
      ],
      "execution_count": 0,
      "outputs": []
    },
    {
      "cell_type": "code",
      "metadata": {
        "id": "L9sUQwx7FGh2",
        "colab_type": "code",
        "colab": {}
      },
      "source": [
        "print(sess.run(r2))"
      ],
      "execution_count": 0,
      "outputs": []
    },
    {
      "cell_type": "markdown",
      "metadata": {
        "id": "aLkdTYKCFGh4",
        "colab_type": "text"
      },
      "source": [
        "### Change data type of tensor\n",
        "The `cast` function used to change the data-type of tensor."
      ]
    },
    {
      "cell_type": "code",
      "metadata": {
        "id": "PkZNAffFFGh4",
        "colab_type": "code",
        "colab": {}
      },
      "source": [
        "t1 = tf.constant([[1, 2, 3], [4, 5, 6]])             # 2-d tensor with shape 2x3 and default dtype:int32"
      ],
      "execution_count": 0,
      "outputs": []
    },
    {
      "cell_type": "code",
      "metadata": {
        "id": "SsKoIVP8FGh6",
        "colab_type": "code",
        "colab": {}
      },
      "source": [
        "print(t1)"
      ],
      "execution_count": 0,
      "outputs": []
    },
    {
      "cell_type": "code",
      "metadata": {
        "id": "ry4GsG9-FGh7",
        "colab_type": "code",
        "colab": {}
      },
      "source": [
        "c1 = tf.cast(t1, dtype=tf.float16)                   # changing t1 to float16"
      ],
      "execution_count": 0,
      "outputs": []
    },
    {
      "cell_type": "code",
      "metadata": {
        "id": "kNX649wDFGh-",
        "colab_type": "code",
        "colab": {}
      },
      "source": [
        "print(c1)"
      ],
      "execution_count": 0,
      "outputs": []
    },
    {
      "cell_type": "code",
      "metadata": {
        "id": "AdiBAdPrFGh_",
        "colab_type": "code",
        "colab": {}
      },
      "source": [
        "t2 = tf.constant([1.2, 2, 3, 4, 5, 6, 7, 8])         # 1-d tensor with shape 1x8 and dtype:float32"
      ],
      "execution_count": 0,
      "outputs": []
    },
    {
      "cell_type": "code",
      "metadata": {
        "id": "eMXSDrz4FGiB",
        "colab_type": "code",
        "colab": {}
      },
      "source": [
        "print(t2)"
      ],
      "execution_count": 0,
      "outputs": []
    },
    {
      "cell_type": "code",
      "metadata": {
        "id": "cQScnahbFGiE",
        "colab_type": "code",
        "colab": {}
      },
      "source": [
        "c2 = tf.cast(t2, dtype=tf.int32)                     # changing t2 to int32"
      ],
      "execution_count": 0,
      "outputs": []
    },
    {
      "cell_type": "code",
      "metadata": {
        "id": "2Omrd7y6FGiH",
        "colab_type": "code",
        "colab": {}
      },
      "source": [
        "print(c2)"
      ],
      "execution_count": 0,
      "outputs": []
    },
    {
      "cell_type": "markdown",
      "metadata": {
        "id": "pC4erIciFGiM",
        "colab_type": "text"
      },
      "source": [
        "### Reverse a tensor\n",
        "The `reverse` function reverses given dimensions of the tensor."
      ]
    },
    {
      "cell_type": "code",
      "metadata": {
        "id": "gIPwu6MlFGiN",
        "colab_type": "code",
        "colab": {}
      },
      "source": [
        "t1 = tf.constant([[1, 2, 3], [4, 5, 6], [7, 8, 9]])     # 2-d tensor with shape 3x3"
      ],
      "execution_count": 0,
      "outputs": []
    },
    {
      "cell_type": "code",
      "metadata": {
        "id": "MrbqNg4fFGiT",
        "colab_type": "code",
        "colab": {}
      },
      "source": [
        "sess = tf.Session()"
      ],
      "execution_count": 0,
      "outputs": []
    },
    {
      "cell_type": "code",
      "metadata": {
        "id": "gR4A5DtCFGiV",
        "colab_type": "code",
        "colab": {}
      },
      "source": [
        "print(sess.run(t1))"
      ],
      "execution_count": 0,
      "outputs": []
    },
    {
      "cell_type": "code",
      "metadata": {
        "id": "H69ZW3TjFGiW",
        "colab_type": "code",
        "colab": {}
      },
      "source": [
        "r1 = tf.reverse(t1, [0])                                # reverse the tensor row-wise"
      ],
      "execution_count": 0,
      "outputs": []
    },
    {
      "cell_type": "code",
      "metadata": {
        "id": "jzc4qnjzFGiY",
        "colab_type": "code",
        "colab": {}
      },
      "source": [
        "print(sess.run(r1))"
      ],
      "execution_count": 0,
      "outputs": []
    },
    {
      "cell_type": "code",
      "metadata": {
        "id": "Arsi3jEsFGiZ",
        "colab_type": "code",
        "colab": {}
      },
      "source": [
        "r2 = tf.reverse(t1, [0, 1])                             # reverse the tensor both row & column wise"
      ],
      "execution_count": 0,
      "outputs": []
    },
    {
      "cell_type": "code",
      "metadata": {
        "id": "snISV16YFGic",
        "colab_type": "code",
        "colab": {}
      },
      "source": [
        "print(sess.run(r2))"
      ],
      "execution_count": 0,
      "outputs": []
    },
    {
      "cell_type": "code",
      "metadata": {
        "id": "ManhJx2bFGid",
        "colab_type": "code",
        "colab": {}
      },
      "source": [
        "r3 = tf.reverse(t1, [1])                               # reverse the tensor column-wise"
      ],
      "execution_count": 0,
      "outputs": []
    },
    {
      "cell_type": "code",
      "metadata": {
        "id": "k9h05eV1FGie",
        "colab_type": "code",
        "colab": {}
      },
      "source": [
        "print(sess.run(r3))"
      ],
      "execution_count": 0,
      "outputs": []
    },
    {
      "cell_type": "markdown",
      "metadata": {
        "id": "sF7brFZwFGif",
        "colab_type": "text"
      },
      "source": [
        "### Slice a tensor\n",
        "The `slice` function extracts sub-tensors from a tensor.\n",
        "```python\n",
        "t = tf.constant([[[1, 1, 1], [2, 2, 2]],\n",
        "                 [[3, 3, 3], [4, 4, 4]],\n",
        "                 [[5, 5, 5], [6, 6, 6]]])\n",
        "```\n",
        "The first array is the first dimension, `t = [[A], [B], [C]]`<br>\n",
        "The second dimension, `A = [i, j], B = [k, l], C = [m, n]`<br>\n",
        "The third dimension `i = [1, 1, 1], j = [2, 2, 2], k = [3, 3 ,3], l = [4, 4, 4], m = [5, 5, 5], n = [6, 6, 6]`\n",
        "\n",
        "`tf.slice(t, [1, 0, 0], [1, 1, 3]) ` gives `[[[3, 3, 3]]]`<br>\n",
        "`tf.slice(input_`, `begin`, `size)`\n",
        "\n",
        "`begin`s with `[B]` (`1`), `0` in second dimension and `0` in third dimension.\n",
        "\n",
        "In `size`, we take `[B]` i.e., (`1`), then in `[B]`, we only take one value from the starting point, which value is `[k]`. Then in `[k]`, we take three value from the starting point which value is `[3, 3, 3]`. Combined, the output of the function is `[[[3, 3, 3]]]`."
      ]
    },
    {
      "cell_type": "code",
      "metadata": {
        "id": "XXkmFdxKFGig",
        "colab_type": "code",
        "colab": {}
      },
      "source": [
        "t1 = tf.constant([[1, 2, 3], [4, 5, 6], [7, 8, 9]])      # 2-D tensor with shape 3x3"
      ],
      "execution_count": 0,
      "outputs": []
    },
    {
      "cell_type": "code",
      "metadata": {
        "id": "-QWMBzh7FGij",
        "colab_type": "code",
        "colab": {}
      },
      "source": [
        "sess = tf.Session()"
      ],
      "execution_count": 0,
      "outputs": []
    },
    {
      "cell_type": "code",
      "metadata": {
        "id": "5wNlaG3tFGik",
        "colab_type": "code",
        "colab": {}
      },
      "source": [
        "print(sess.run(t1))"
      ],
      "execution_count": 0,
      "outputs": []
    },
    {
      "cell_type": "code",
      "metadata": {
        "id": "obFn-jKzFGim",
        "colab_type": "code",
        "colab": {}
      },
      "source": [
        "s1 = tf.slice(t1, [1, 1], [1,1])                         # accessing 2nd row, 2nd element with size 1x1"
      ],
      "execution_count": 0,
      "outputs": []
    },
    {
      "cell_type": "code",
      "metadata": {
        "id": "dcUrh-s9FGin",
        "colab_type": "code",
        "colab": {}
      },
      "source": [
        "print(sess.run(s1))"
      ],
      "execution_count": 0,
      "outputs": []
    },
    {
      "cell_type": "code",
      "metadata": {
        "id": "wxLkFhRGFGip",
        "colab_type": "code",
        "colab": {}
      },
      "source": [
        "s2 = tf.slice(t1, [1, 1], [2, 2])                        # accessing 2nd row-2nd element with size 2x2"
      ],
      "execution_count": 0,
      "outputs": []
    },
    {
      "cell_type": "code",
      "metadata": {
        "id": "Sv3KnlJhFGir",
        "colab_type": "code",
        "colab": {}
      },
      "source": [
        "print(sess.run(s2))"
      ],
      "execution_count": 0,
      "outputs": []
    },
    {
      "cell_type": "code",
      "metadata": {
        "id": "gJqZyAYpFGit",
        "colab_type": "code",
        "colab": {}
      },
      "source": [
        "s3 = tf.slice(t1, [1, 2], [2, 1])                        # accessing 2nd row-3rd element with size 2x1"
      ],
      "execution_count": 0,
      "outputs": []
    },
    {
      "cell_type": "code",
      "metadata": {
        "id": "mLsgrmp9FGiv",
        "colab_type": "code",
        "colab": {}
      },
      "source": [
        "print(sess.run(s3))"
      ],
      "execution_count": 0,
      "outputs": []
    },
    {
      "cell_type": "markdown",
      "metadata": {
        "id": "a58KJ-EIFGiw",
        "colab_type": "text"
      },
      "source": [
        "## TensorFlow Conditionals & Loops"
      ]
    },
    {
      "cell_type": "markdown",
      "metadata": {
        "id": "nH0o0YdRFGiw",
        "colab_type": "text"
      },
      "source": [
        "### `tf.cond`: Simple Lambdas\n",
        "Here we have two constant tensors `t1` and `t2` and we execute either `f1()` or `f2()` based on the result of `tf.less()` operation:"
      ]
    },
    {
      "cell_type": "code",
      "metadata": {
        "id": "1GXlGnepFGix",
        "colab_type": "code",
        "colab": {}
      },
      "source": [
        "t1 = tf.constant(1)\n",
        "t2 = tf.constant(2)\n",
        "\n",
        "def f1(): return t1+t2\n",
        "def f2(): return t1-t2\n",
        "\n",
        "res = tf.cond(tf.less(t1, t2), f1, f2)\n",
        "\n",
        "with tf.Session() as sess:\n",
        "    print(sess.run(res))"
      ],
      "execution_count": 0,
      "outputs": []
    },
    {
      "cell_type": "markdown",
      "metadata": {
        "id": "cIqyfCbIFGiy",
        "colab_type": "text"
      },
      "source": [
        "As expected the printed number is `3` since `1 < 2` and thus the `f1()` gets executed. It’s worth noting that both lambdas here are single line functions, neither of which accepts any parameters."
      ]
    },
    {
      "cell_type": "markdown",
      "metadata": {
        "id": "1XDw6erxFGiz",
        "colab_type": "text"
      },
      "source": [
        "### `tf.while_loop`: Basics\n",
        "We have two constant tensors `t1` and `t2` and we will run a loop that will be incrementing `t1` while it’s less than `t2`:"
      ]
    },
    {
      "cell_type": "code",
      "metadata": {
        "id": "BpKJGobKFGiz",
        "colab_type": "code",
        "colab": {}
      },
      "source": [
        "def cond(t1, t2):\n",
        "    return tf.less(t1, t2)\n",
        "\n",
        "def body(t1, t2):\n",
        "    return [tf.add(t1, 1), t2]\n",
        "\n",
        "t1 = tf.constant(1)\n",
        "t2 = tf.constant(5)\n",
        "\n",
        "res = tf.while_loop(cond, body, [t1, t2])\n",
        "\n",
        "with tf.Session() as sess:\n",
        "    print(sess.run(res))"
      ],
      "execution_count": 0,
      "outputs": []
    },
    {
      "cell_type": "markdown",
      "metadata": {
        "id": "6LwegweYFGi1",
        "colab_type": "text"
      },
      "source": [
        "This result makes perfect sense: we keep incrementing the original value (`1`) until it’s less than `5`. Once it reaches `5` the `tf.while_loop` stops and the last value returned by `body` is returned as a result."
      ]
    }
  ]
}